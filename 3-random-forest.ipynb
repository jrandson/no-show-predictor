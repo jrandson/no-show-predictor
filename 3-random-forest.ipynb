{
 "cells": [
  {
   "cell_type": "code",
   "execution_count": 48,
   "metadata": {
    "ExecuteTime": {
     "end_time": "2021-03-17T03:19:35.621939Z",
     "start_time": "2021-03-17T03:19:35.484582Z"
    }
   },
   "outputs": [
    {
     "name": "stdout",
     "output_type": "stream",
     "text": [
      "The autoreload extension is already loaded. To reload it, use:\n",
      "  %reload_ext autoreload\n"
     ]
    }
   ],
   "source": [
    "%load_ext autoreload\n",
    "%autoreload 2"
   ]
  },
  {
   "cell_type": "code",
   "execution_count": 49,
   "metadata": {
    "ExecuteTime": {
     "end_time": "2021-03-17T03:19:36.007391Z",
     "start_time": "2021-03-17T03:19:35.648348Z"
    }
   },
   "outputs": [],
   "source": [
    "import os\n",
    "import sys\n",
    "import math\n",
    "import logging\n",
    "from pathlib import Path\n",
    "\n",
    "import numpy as np\n",
    "import scipy as sp\n",
    "import sklearn\n",
    "from sklearn.model_selection import GridSearchCV \n",
    "\n",
    "import matplotlib as mpl\n",
    "import matplotlib.pyplot as plt\n",
    "import seaborn as sns\n",
    "# import missingno as msgo\n",
    "\n",
    "from category_encoders.target_encoder import TargetEncoder\n",
    "from category_encoders.one_hot import OneHotEncoder\n",
    "\n",
    "from sklearn.metrics import (classification_report, plot_confusion_matrix, plot_precision_recall_curve, \n",
    "                             plot_roc_curve, precision_score, recall_score, f1_score)\n",
    "\n",
    "%matplotlib inline\n",
    "%config InlineBackend.figure_format = 'retina'\n",
    "\n",
    "import seaborn as sns\n",
    "sns.set_context(\"poster\")\n",
    "sns.set(rc={'figure.figsize': (10, 6)})\n",
    "sns.set_style(\"whitegrid\")\n",
    "\n",
    "import pandas as pd\n",
    "pd.set_option(\"display.max_rows\", 120)\n",
    "pd.set_option(\"display.max_columns\", 120)\n"
   ]
  },
  {
   "cell_type": "code",
   "execution_count": null,
   "metadata": {
    "ExecuteTime": {
     "end_time": "2021-03-13T23:37:56.657026Z",
     "start_time": "2021-03-13T23:37:56.641905Z"
    }
   },
   "outputs": [],
   "source": []
  },
  {
   "cell_type": "code",
   "execution_count": 50,
   "metadata": {
    "ExecuteTime": {
     "end_time": "2021-03-17T03:19:36.318027Z",
     "start_time": "2021-03-17T03:19:36.008849Z"
    },
    "scrolled": true
   },
   "outputs": [],
   "source": [
    "from src.eda_utils import insert_note\n",
    "from src.modeling_utils import plot_train_test_metrics\n",
    "from src.preprocess import preprocess"
   ]
  },
  {
   "cell_type": "code",
   "execution_count": 51,
   "metadata": {
    "ExecuteTime": {
     "end_time": "2021-03-17T03:19:39.075330Z",
     "start_time": "2021-03-17T03:19:36.325606Z"
    }
   },
   "outputs": [
    {
     "name": "stderr",
     "output_type": "stream",
     "text": [
      "/home/jrcunha/anaconda3/lib/python3.8/site-packages/IPython/core/interactiveshell.py:3146: DtypeWarning: Columns (24) have mixed types.Specify dtype option on import or set low_memory=False.\n",
      "  has_raised = await self.run_ast_nodes(code_ast.body, cell_name,\n"
     ]
    },
    {
     "data": {
      "text/html": [
       "<div>\n",
       "<style scoped>\n",
       "    .dataframe tbody tr th:only-of-type {\n",
       "        vertical-align: middle;\n",
       "    }\n",
       "\n",
       "    .dataframe tbody tr th {\n",
       "        vertical-align: top;\n",
       "    }\n",
       "\n",
       "    .dataframe thead th {\n",
       "        text-align: right;\n",
       "    }\n",
       "</style>\n",
       "<table border=\"1\" class=\"dataframe\">\n",
       "  <thead>\n",
       "    <tr style=\"text-align: right;\">\n",
       "      <th></th>\n",
       "      <th>Dia semana agendamento</th>\n",
       "      <th>Ano agendamento</th>\n",
       "      <th>Mes agendamento</th>\n",
       "      <th>Hora agendamento</th>\n",
       "      <th>Dia mes agendamento</th>\n",
       "      <th>Dia semana atendimento</th>\n",
       "      <th>Ano atendimento</th>\n",
       "      <th>Mes atendimento</th>\n",
       "      <th>Hora atendimento</th>\n",
       "      <th>Dia mes atendimento</th>\n",
       "      <th>Secao</th>\n",
       "      <th>Medico preferencial</th>\n",
       "      <th>Renda Provavel</th>\n",
       "      <th>MicroArea</th>\n",
       "      <th>Diretoria</th>\n",
       "      <th>Cod convenio</th>\n",
       "      <th>Codigo exame</th>\n",
       "      <th>Idade</th>\n",
       "      <th>Tempo medio de agendamento</th>\n",
       "      <th>Unidade</th>\n",
       "      <th>Bairro</th>\n",
       "      <th>Feminino</th>\n",
       "      <th>No Show</th>\n",
       "      <th>Unnamed: 23</th>\n",
       "      <th>Legenda</th>\n",
       "    </tr>\n",
       "  </thead>\n",
       "  <tbody>\n",
       "    <tr>\n",
       "      <th>0</th>\n",
       "      <td>6</td>\n",
       "      <td>2019</td>\n",
       "      <td>8</td>\n",
       "      <td>8</td>\n",
       "      <td>18</td>\n",
       "      <td>3</td>\n",
       "      <td>2019</td>\n",
       "      <td>8</td>\n",
       "      <td>15</td>\n",
       "      <td>15</td>\n",
       "      <td>110</td>\n",
       "      <td>0</td>\n",
       "      <td>1028823</td>\n",
       "      <td>377</td>\n",
       "      <td>7</td>\n",
       "      <td>115</td>\n",
       "      <td>465530</td>\n",
       "      <td>39</td>\n",
       "      <td>2</td>\n",
       "      <td>VILLA LOBOS</td>\n",
       "      <td>4218</td>\n",
       "      <td>1</td>\n",
       "      <td>0</td>\n",
       "      <td>NaN</td>\n",
       "      <td>Show = 0</td>\n",
       "    </tr>\n",
       "    <tr>\n",
       "      <th>1</th>\n",
       "      <td>2</td>\n",
       "      <td>2019</td>\n",
       "      <td>11</td>\n",
       "      <td>7</td>\n",
       "      <td>6</td>\n",
       "      <td>0</td>\n",
       "      <td>2019</td>\n",
       "      <td>11</td>\n",
       "      <td>13</td>\n",
       "      <td>4</td>\n",
       "      <td>110</td>\n",
       "      <td>0</td>\n",
       "      <td>1028823</td>\n",
       "      <td>377</td>\n",
       "      <td>7</td>\n",
       "      <td>115</td>\n",
       "      <td>465530</td>\n",
       "      <td>39</td>\n",
       "      <td>1</td>\n",
       "      <td>VILLA LOBOS</td>\n",
       "      <td>4218</td>\n",
       "      <td>1</td>\n",
       "      <td>1</td>\n",
       "      <td>NaN</td>\n",
       "      <td>No Show = 1</td>\n",
       "    </tr>\n",
       "    <tr>\n",
       "      <th>2</th>\n",
       "      <td>5</td>\n",
       "      <td>2019</td>\n",
       "      <td>8</td>\n",
       "      <td>8</td>\n",
       "      <td>31</td>\n",
       "      <td>3</td>\n",
       "      <td>2019</td>\n",
       "      <td>8</td>\n",
       "      <td>15</td>\n",
       "      <td>15</td>\n",
       "      <td>36</td>\n",
       "      <td>0</td>\n",
       "      <td>1028823</td>\n",
       "      <td>377</td>\n",
       "      <td>7</td>\n",
       "      <td>115</td>\n",
       "      <td>465530</td>\n",
       "      <td>39</td>\n",
       "      <td>15</td>\n",
       "      <td>ITAIM</td>\n",
       "      <td>4218</td>\n",
       "      <td>1</td>\n",
       "      <td>0</td>\n",
       "      <td>NaN</td>\n",
       "      <td>NaN</td>\n",
       "    </tr>\n",
       "    <tr>\n",
       "      <th>3</th>\n",
       "      <td>4</td>\n",
       "      <td>2019</td>\n",
       "      <td>9</td>\n",
       "      <td>11</td>\n",
       "      <td>27</td>\n",
       "      <td>4</td>\n",
       "      <td>2019</td>\n",
       "      <td>9</td>\n",
       "      <td>8</td>\n",
       "      <td>27</td>\n",
       "      <td>110</td>\n",
       "      <td>1</td>\n",
       "      <td>489594</td>\n",
       "      <td>767</td>\n",
       "      <td>7</td>\n",
       "      <td>115</td>\n",
       "      <td>465530</td>\n",
       "      <td>49</td>\n",
       "      <td>0</td>\n",
       "      <td>HIGIENÓPOLIS</td>\n",
       "      <td>2169</td>\n",
       "      <td>1</td>\n",
       "      <td>0</td>\n",
       "      <td>NaN</td>\n",
       "      <td>NaN</td>\n",
       "    </tr>\n",
       "    <tr>\n",
       "      <th>4</th>\n",
       "      <td>4</td>\n",
       "      <td>2019</td>\n",
       "      <td>10</td>\n",
       "      <td>11</td>\n",
       "      <td>11</td>\n",
       "      <td>1</td>\n",
       "      <td>2019</td>\n",
       "      <td>10</td>\n",
       "      <td>17</td>\n",
       "      <td>1</td>\n",
       "      <td>110</td>\n",
       "      <td>0</td>\n",
       "      <td>31829</td>\n",
       "      <td>568</td>\n",
       "      <td>7</td>\n",
       "      <td>115</td>\n",
       "      <td>7244510</td>\n",
       "      <td>33</td>\n",
       "      <td>9</td>\n",
       "      <td>ALPHAVILLE</td>\n",
       "      <td>9638</td>\n",
       "      <td>1</td>\n",
       "      <td>0</td>\n",
       "      <td>NaN</td>\n",
       "      <td>NaN</td>\n",
       "    </tr>\n",
       "  </tbody>\n",
       "</table>\n",
       "</div>"
      ],
      "text/plain": [
       "   Dia semana agendamento  Ano agendamento  Mes agendamento  Hora agendamento  \\\n",
       "0                       6             2019                8                 8   \n",
       "1                       2             2019               11                 7   \n",
       "2                       5             2019                8                 8   \n",
       "3                       4             2019                9                11   \n",
       "4                       4             2019               10                11   \n",
       "\n",
       "   Dia mes agendamento  Dia semana atendimento  Ano atendimento  \\\n",
       "0                   18                       3             2019   \n",
       "1                    6                       0             2019   \n",
       "2                   31                       3             2019   \n",
       "3                   27                       4             2019   \n",
       "4                   11                       1             2019   \n",
       "\n",
       "   Mes atendimento  Hora atendimento  Dia mes atendimento  Secao  \\\n",
       "0                8                15                   15    110   \n",
       "1               11                13                    4    110   \n",
       "2                8                15                   15     36   \n",
       "3                9                 8                   27    110   \n",
       "4               10                17                    1    110   \n",
       "\n",
       "   Medico preferencial  Renda Provavel  MicroArea  Diretoria  Cod convenio  \\\n",
       "0                    0         1028823        377          7           115   \n",
       "1                    0         1028823        377          7           115   \n",
       "2                    0         1028823        377          7           115   \n",
       "3                    1          489594        767          7           115   \n",
       "4                    0           31829        568          7           115   \n",
       "\n",
       "   Codigo exame  Idade  Tempo medio de agendamento       Unidade  Bairro  \\\n",
       "0        465530     39                           2   VILLA LOBOS    4218   \n",
       "1        465530     39                           1   VILLA LOBOS    4218   \n",
       "2        465530     39                          15         ITAIM    4218   \n",
       "3        465530     49                           0  HIGIENÓPOLIS    2169   \n",
       "4       7244510     33                           9    ALPHAVILLE    9638   \n",
       "\n",
       "   Feminino  No Show  Unnamed: 23      Legenda  \n",
       "0         1        0          NaN     Show = 0  \n",
       "1         1        1          NaN  No Show = 1  \n",
       "2         1        0          NaN          NaN  \n",
       "3         1        0          NaN          NaN  \n",
       "4         1        0          NaN          NaN  "
      ]
     },
     "execution_count": 51,
     "metadata": {},
     "output_type": "execute_result"
    }
   ],
   "source": [
    "raw = pd.read_csv('data/dados.csv', sep=';')\n",
    "raw.head()                  "
   ]
  },
  {
   "cell_type": "code",
   "execution_count": 52,
   "metadata": {
    "ExecuteTime": {
     "end_time": "2021-03-17T03:19:47.234131Z",
     "start_time": "2021-03-17T03:19:39.076717Z"
    }
   },
   "outputs": [
    {
     "name": "stderr",
     "output_type": "stream",
     "text": [
      "/home/jrcunha/anaconda3/lib/python3.8/site-packages/pandas/core/indexing.py:1745: SettingWithCopyWarning: \n",
      "A value is trying to be set on a copy of a slice from a DataFrame.\n",
      "Try using .loc[row_indexer,col_indexer] = value instead\n",
      "\n",
      "See the caveats in the documentation: https://pandas.pydata.org/pandas-docs/stable/user_guide/indexing.html#returning-a-view-versus-a-copy\n",
      "  isetter(ilocs[0], value)\n",
      "/home/jrcunha/anaconda3/lib/python3.8/site-packages/pandas/core/indexing.py:1596: SettingWithCopyWarning: \n",
      "A value is trying to be set on a copy of a slice from a DataFrame.\n",
      "Try using .loc[row_indexer,col_indexer] = value instead\n",
      "\n",
      "See the caveats in the documentation: https://pandas.pydata.org/pandas-docs/stable/user_guide/indexing.html#returning-a-view-versus-a-copy\n",
      "  self.obj[key] = _infer_fill_value(value)\n"
     ]
    }
   ],
   "source": [
    "df = preprocess(raw)"
   ]
  },
  {
   "cell_type": "code",
   "execution_count": 53,
   "metadata": {
    "ExecuteTime": {
     "end_time": "2021-03-17T03:19:48.674864Z",
     "start_time": "2021-03-17T03:19:47.237051Z"
    }
   },
   "outputs": [
    {
     "data": {
      "text/html": [
       "<div>\n",
       "<style scoped>\n",
       "    .dataframe tbody tr th:only-of-type {\n",
       "        vertical-align: middle;\n",
       "    }\n",
       "\n",
       "    .dataframe tbody tr th {\n",
       "        vertical-align: top;\n",
       "    }\n",
       "\n",
       "    .dataframe thead th {\n",
       "        text-align: right;\n",
       "    }\n",
       "</style>\n",
       "<table border=\"1\" class=\"dataframe\">\n",
       "  <thead>\n",
       "    <tr style=\"text-align: right;\">\n",
       "      <th></th>\n",
       "      <th>dias_ate_atendimento</th>\n",
       "      <th>tempo_medio_de_agendamento</th>\n",
       "      <th>renda_provavel</th>\n",
       "      <th>idade</th>\n",
       "      <th>feminino</th>\n",
       "      <th>medico_preferencial</th>\n",
       "      <th>diretoria</th>\n",
       "      <th>dia_semana_agendamento</th>\n",
       "      <th>dia_semana_atendimento</th>\n",
       "      <th>hora_agendamento</th>\n",
       "      <th>hora_atendimento</th>\n",
       "      <th>secao</th>\n",
       "      <th>microarea</th>\n",
       "      <th>cod_convenio</th>\n",
       "      <th>codigo_exame</th>\n",
       "      <th>unidade</th>\n",
       "      <th>bairro</th>\n",
       "      <th>no_show</th>\n",
       "    </tr>\n",
       "  </thead>\n",
       "  <tbody>\n",
       "    <tr>\n",
       "      <th>0</th>\n",
       "      <td>3</td>\n",
       "      <td>2</td>\n",
       "      <td>1028.823</td>\n",
       "      <td>39</td>\n",
       "      <td>1</td>\n",
       "      <td>0</td>\n",
       "      <td>7</td>\n",
       "      <td>6</td>\n",
       "      <td>3</td>\n",
       "      <td>8</td>\n",
       "      <td>15</td>\n",
       "      <td>110</td>\n",
       "      <td>-100</td>\n",
       "      <td>115</td>\n",
       "      <td>465530</td>\n",
       "      <td>VILLA LOBOS</td>\n",
       "      <td>-100</td>\n",
       "      <td>0</td>\n",
       "    </tr>\n",
       "    <tr>\n",
       "      <th>1</th>\n",
       "      <td>2</td>\n",
       "      <td>1</td>\n",
       "      <td>1028.823</td>\n",
       "      <td>39</td>\n",
       "      <td>1</td>\n",
       "      <td>0</td>\n",
       "      <td>7</td>\n",
       "      <td>2</td>\n",
       "      <td>0</td>\n",
       "      <td>7</td>\n",
       "      <td>13</td>\n",
       "      <td>110</td>\n",
       "      <td>-100</td>\n",
       "      <td>115</td>\n",
       "      <td>465530</td>\n",
       "      <td>VILLA LOBOS</td>\n",
       "      <td>-100</td>\n",
       "      <td>1</td>\n",
       "    </tr>\n",
       "    <tr>\n",
       "      <th>2</th>\n",
       "      <td>16</td>\n",
       "      <td>15</td>\n",
       "      <td>1028.823</td>\n",
       "      <td>39</td>\n",
       "      <td>1</td>\n",
       "      <td>0</td>\n",
       "      <td>7</td>\n",
       "      <td>5</td>\n",
       "      <td>3</td>\n",
       "      <td>8</td>\n",
       "      <td>15</td>\n",
       "      <td>36</td>\n",
       "      <td>-100</td>\n",
       "      <td>115</td>\n",
       "      <td>465530</td>\n",
       "      <td>ITAIM</td>\n",
       "      <td>-100</td>\n",
       "      <td>0</td>\n",
       "    </tr>\n",
       "    <tr>\n",
       "      <th>4</th>\n",
       "      <td>10</td>\n",
       "      <td>9</td>\n",
       "      <td>31.829</td>\n",
       "      <td>33</td>\n",
       "      <td>1</td>\n",
       "      <td>0</td>\n",
       "      <td>7</td>\n",
       "      <td>4</td>\n",
       "      <td>1</td>\n",
       "      <td>11</td>\n",
       "      <td>17</td>\n",
       "      <td>110</td>\n",
       "      <td>-100</td>\n",
       "      <td>115</td>\n",
       "      <td>7244510</td>\n",
       "      <td>ALPHAVILLE</td>\n",
       "      <td>-100</td>\n",
       "      <td>0</td>\n",
       "    </tr>\n",
       "    <tr>\n",
       "      <th>5</th>\n",
       "      <td>14</td>\n",
       "      <td>14</td>\n",
       "      <td>31.829</td>\n",
       "      <td>33</td>\n",
       "      <td>1</td>\n",
       "      <td>0</td>\n",
       "      <td>7</td>\n",
       "      <td>2</td>\n",
       "      <td>2</td>\n",
       "      <td>15</td>\n",
       "      <td>14</td>\n",
       "      <td>110</td>\n",
       "      <td>-100</td>\n",
       "      <td>115</td>\n",
       "      <td>7244510</td>\n",
       "      <td>ALPHAVILLE</td>\n",
       "      <td>-100</td>\n",
       "      <td>0</td>\n",
       "    </tr>\n",
       "  </tbody>\n",
       "</table>\n",
       "</div>"
      ],
      "text/plain": [
       "   dias_ate_atendimento  tempo_medio_de_agendamento  renda_provavel  idade  \\\n",
       "0                     3                           2        1028.823     39   \n",
       "1                     2                           1        1028.823     39   \n",
       "2                    16                          15        1028.823     39   \n",
       "4                    10                           9          31.829     33   \n",
       "5                    14                          14          31.829     33   \n",
       "\n",
       "   feminino  medico_preferencial  diretoria  dia_semana_agendamento  \\\n",
       "0         1                    0          7                       6   \n",
       "1         1                    0          7                       2   \n",
       "2         1                    0          7                       5   \n",
       "4         1                    0          7                       4   \n",
       "5         1                    0          7                       2   \n",
       "\n",
       "   dia_semana_atendimento  hora_agendamento  hora_atendimento  secao  \\\n",
       "0                       3                 8                15    110   \n",
       "1                       0                 7                13    110   \n",
       "2                       3                 8                15     36   \n",
       "4                       1                11                17    110   \n",
       "5                       2                15                14    110   \n",
       "\n",
       "   microarea  cod_convenio  codigo_exame      unidade  bairro  no_show  \n",
       "0       -100           115        465530  VILLA LOBOS    -100        0  \n",
       "1       -100           115        465530  VILLA LOBOS    -100        1  \n",
       "2       -100           115        465530        ITAIM    -100        0  \n",
       "4       -100           115       7244510   ALPHAVILLE    -100        0  \n",
       "5       -100           115       7244510   ALPHAVILLE    -100        0  "
      ]
     },
     "execution_count": 53,
     "metadata": {},
     "output_type": "execute_result"
    }
   ],
   "source": [
    "df.head()"
   ]
  },
  {
   "cell_type": "code",
   "execution_count": 54,
   "metadata": {
    "ExecuteTime": {
     "end_time": "2021-03-17T03:19:49.169168Z",
     "start_time": "2021-03-17T03:19:48.676912Z"
    }
   },
   "outputs": [
    {
     "data": {
      "text/plain": [
       "Index(['dias_ate_atendimento', 'tempo_medio_de_agendamento', 'renda_provavel',\n",
       "       'idade', 'feminino', 'medico_preferencial', 'diretoria',\n",
       "       'dia_semana_agendamento', 'dia_semana_atendimento', 'hora_agendamento',\n",
       "       'hora_atendimento', 'secao', 'microarea', 'cod_convenio',\n",
       "       'codigo_exame', 'unidade', 'bairro', 'no_show'],\n",
       "      dtype='object')"
      ]
     },
     "execution_count": 54,
     "metadata": {},
     "output_type": "execute_result"
    }
   ],
   "source": [
    "df.columns"
   ]
  },
  {
   "cell_type": "code",
   "execution_count": 55,
   "metadata": {
    "ExecuteTime": {
     "end_time": "2021-03-17T03:19:49.967755Z",
     "start_time": "2021-03-17T03:19:49.175573Z"
    }
   },
   "outputs": [
    {
     "data": {
      "text/plain": [
       "dias_ate_atendimento          0.0\n",
       "tempo_medio_de_agendamento    0.0\n",
       "renda_provavel                0.0\n",
       "idade                         0.0\n",
       "feminino                      0.0\n",
       "medico_preferencial           0.0\n",
       "diretoria                     0.0\n",
       "dia_semana_agendamento        0.0\n",
       "dia_semana_atendimento        0.0\n",
       "hora_agendamento              0.0\n",
       "hora_atendimento              0.0\n",
       "secao                         0.0\n",
       "microarea                     0.0\n",
       "cod_convenio                  0.0\n",
       "codigo_exame                  0.0\n",
       "unidade                       0.0\n",
       "bairro                        0.0\n",
       "no_show                       0.0\n",
       "dtype: float64"
      ]
     },
     "execution_count": 55,
     "metadata": {},
     "output_type": "execute_result"
    }
   ],
   "source": [
    "df.isna().mean()"
   ]
  },
  {
   "cell_type": "code",
   "execution_count": 56,
   "metadata": {
    "ExecuteTime": {
     "end_time": "2021-03-17T03:19:50.290087Z",
     "start_time": "2021-03-17T03:19:49.972179Z"
    }
   },
   "outputs": [],
   "source": [
    "to_encode = ['dia_semana_agendamento',  'dia_semana_atendimento',\n",
    "          'secao',  'unidade',           \n",
    "          'microarea', 'codigo_exame', 'bairro', 'cod_convenio']\n",
    "\n",
    "hot_encode = ['feminino', 'medico_preferencial', 'diretoria']\n"
   ]
  },
  {
   "cell_type": "code",
   "execution_count": 57,
   "metadata": {
    "ExecuteTime": {
     "end_time": "2021-03-17T03:19:50.662727Z",
     "start_time": "2021-03-17T03:19:50.294826Z"
    }
   },
   "outputs": [],
   "source": [
    "X = df.drop('no_show', axis=1)\n",
    "y = df['no_show']"
   ]
  },
  {
   "cell_type": "code",
   "execution_count": 58,
   "metadata": {
    "ExecuteTime": {
     "end_time": "2021-03-17T03:19:50.951212Z",
     "start_time": "2021-03-17T03:19:50.667846Z"
    }
   },
   "outputs": [],
   "source": [
    "from sklearn.model_selection import train_test_split"
   ]
  },
  {
   "cell_type": "code",
   "execution_count": 59,
   "metadata": {
    "ExecuteTime": {
     "end_time": "2021-03-17T03:19:51.325440Z",
     "start_time": "2021-03-17T03:19:50.955726Z"
    }
   },
   "outputs": [],
   "source": [
    "seed = 142\n",
    "X_train, X_test, y_train, y_test = train_test_split(X, y, test_size=0.2, random_state = seed)"
   ]
  },
  {
   "cell_type": "code",
   "execution_count": 60,
   "metadata": {
    "ExecuteTime": {
     "end_time": "2021-03-17T03:19:52.394766Z",
     "start_time": "2021-03-17T03:19:51.327029Z"
    }
   },
   "outputs": [
    {
     "name": "stderr",
     "output_type": "stream",
     "text": [
      "/home/jrcunha/anaconda3/lib/python3.8/site-packages/category_encoders/utils.py:21: FutureWarning: is_categorical is deprecated and will be removed in a future version.  Use is_categorical_dtype instead\n",
      "  elif pd.api.types.is_categorical(cols):\n"
     ]
    }
   ],
   "source": [
    "encoder = TargetEncoder(cols=to_encode)\n",
    "X_train = encoder.fit_transform(X_train, y_train)\n",
    "X_test = encoder.transform(X_test)"
   ]
  },
  {
   "cell_type": "code",
   "execution_count": 61,
   "metadata": {
    "ExecuteTime": {
     "end_time": "2021-03-17T03:19:52.755143Z",
     "start_time": "2021-03-17T03:19:52.395997Z"
    }
   },
   "outputs": [
    {
     "name": "stderr",
     "output_type": "stream",
     "text": [
      "/home/jrcunha/anaconda3/lib/python3.8/site-packages/category_encoders/utils.py:21: FutureWarning: is_categorical is deprecated and will be removed in a future version.  Use is_categorical_dtype instead\n",
      "  elif pd.api.types.is_categorical(cols):\n"
     ]
    }
   ],
   "source": [
    "oh_encoder = OneHotEncoder(cols=hot_encode,\n",
    "                          use_cat_names=True,\n",
    "                          handle_missing='missing')\n",
    "\n",
    "\n",
    "X_train = oh_encoder.fit_transform(X_train)\n",
    "X_test = oh_encoder.transform(X_test)"
   ]
  },
  {
   "cell_type": "code",
   "execution_count": 62,
   "metadata": {
    "ExecuteTime": {
     "end_time": "2021-03-17T03:19:52.990290Z",
     "start_time": "2021-03-17T03:19:52.757836Z"
    }
   },
   "outputs": [],
   "source": [
    "final_columns = ['dias_ate_atendimento', 'tempo_medio_de_agendamento', 'renda_provavel', 'idade', \n",
    "                 'feminino_1.0', 'medico_preferencial_1.0', 'diretoria_6.0',\n",
    "                 'dia_semana_agendamento', 'dia_semana_atendimento',\n",
    "                 'secao', 'microarea','cod_convenio', 'codigo_exame', 'unidade', 'bairro',\n",
    "                 'hora_atendimento'\n",
    "                ]\n",
    "\n",
    "\n",
    "X_train = X_train[final_columns]\n",
    "X_test = X_test[final_columns]"
   ]
  },
  {
   "cell_type": "markdown",
   "metadata": {},
   "source": [
    "### Random Forest"
   ]
  },
  {
   "cell_type": "code",
   "execution_count": 63,
   "metadata": {
    "ExecuteTime": {
     "end_time": "2021-03-17T03:19:53.476409Z",
     "start_time": "2021-03-17T03:19:52.991954Z"
    }
   },
   "outputs": [],
   "source": [
    "from sklearn.ensemble import RandomForestClassifier"
   ]
  },
  {
   "cell_type": "code",
   "execution_count": 64,
   "metadata": {
    "ExecuteTime": {
     "end_time": "2021-03-17T03:19:53.928720Z",
     "start_time": "2021-03-17T03:19:53.481855Z"
    }
   },
   "outputs": [],
   "source": [
    "seed = 142\n",
    "\n",
    "params = {'bootstrap': True,\n",
    "          'class_weight': 'balanced',\n",
    "          'criterion': 'gini',\n",
    "          'max_depth': 36,\n",
    "          'max_features': 'auto',\n",
    "          'max_samples': 0.75,\n",
    "          'n_estimators': 180,\n",
    "          'n_jobs': -1,\n",
    "          'random_state': seed,\n",
    "          'verbose': 0}\n",
    "\n",
    "rf_model = RandomForestClassifier(**params)"
   ]
  },
  {
   "cell_type": "code",
   "execution_count": null,
   "metadata": {
    "ExecuteTime": {
     "start_time": "2021-03-17T03:19:44.813Z"
    }
   },
   "outputs": [
    {
     "data": {
      "text/plain": [
       "RandomForestClassifier(class_weight='balanced', max_depth=36, max_samples=0.75,\n",
       "                       n_estimators=180, n_jobs=-1, random_state=142)"
      ]
     },
     "execution_count": 65,
     "metadata": {},
     "output_type": "execute_result"
    }
   ],
   "source": [
    "rf_model.fit(X_train, y_train)"
   ]
  },
  {
   "cell_type": "code",
   "execution_count": null,
   "metadata": {
    "ExecuteTime": {
     "start_time": "2021-03-17T03:19:45.179Z"
    }
   },
   "outputs": [],
   "source": [
    "importance = pd.DataFrame({'feature': X_train.columns,\n",
    "                           'importance': rf_model.feature_importances_})\n",
    "\n",
    "\n",
    "importance.set_index('feature').sort_values(by='importance', ascending=True).plot(kind='barh', \n",
    "                                                                                   figsize=(12,8));"
   ]
  },
  {
   "cell_type": "markdown",
   "metadata": {},
   "source": [
    "### metrics validation model"
   ]
  },
  {
   "cell_type": "code",
   "execution_count": null,
   "metadata": {
    "ExecuteTime": {
     "start_time": "2021-03-17T03:19:46.160Z"
    }
   },
   "outputs": [],
   "source": [
    "y_pred = rf_model.predict(X_test)\n",
    "y_score = rf_model.predict_proba(X_test)[:,1]"
   ]
  },
  {
   "cell_type": "code",
   "execution_count": null,
   "metadata": {
    "ExecuteTime": {
     "start_time": "2021-03-17T03:19:46.476Z"
    }
   },
   "outputs": [],
   "source": [
    "print(classification_report(y_test, y_pred))"
   ]
  },
  {
   "cell_type": "code",
   "execution_count": null,
   "metadata": {
    "ExecuteTime": {
     "start_time": "2021-03-17T03:19:46.895Z"
    }
   },
   "outputs": [],
   "source": [
    "print(\"precision: \", precision_score(y_test, y_pred))\n",
    "print(\"recall: \", recall_score(y_test, y_pred))\n",
    "print(\"f1: \", f1_score(y_test, y_pred))"
   ]
  },
  {
   "cell_type": "code",
   "execution_count": null,
   "metadata": {
    "ExecuteTime": {
     "start_time": "2021-03-17T03:19:47.262Z"
    }
   },
   "outputs": [],
   "source": [
    "plot_train_test_metrics(rf_model, X_train, y_train, X_test, y_test)"
   ]
  },
  {
   "cell_type": "markdown",
   "metadata": {},
   "source": [
    "Com relação à métrica recall, o modelo com alta variância. Isso se deve ao alto valor do parâmetro max_depth, que define a produndidade da arvore. A Alta taxa de precisão, significa um baixo grau de Falso Positivo, que almenta a confiação da predição do modelo"
   ]
  },
  {
   "cell_type": "code",
   "execution_count": null,
   "metadata": {
    "ExecuteTime": {
     "start_time": "2021-03-17T03:19:48.081Z"
    }
   },
   "outputs": [],
   "source": [
    "plot_confusion_matrix(rf_model, X_test, y_test, normalize='pred',  cmap='Blues');"
   ]
  },
  {
   "cell_type": "code",
   "execution_count": null,
   "metadata": {
    "ExecuteTime": {
     "start_time": "2021-03-17T03:19:48.305Z"
    }
   },
   "outputs": [],
   "source": [
    "plot_confusion_matrix(rf_model, X_test, y_test, normalize='true',  cmap='Blues');"
   ]
  },
  {
   "cell_type": "code",
   "execution_count": null,
   "metadata": {
    "ExecuteTime": {
     "start_time": "2021-03-17T03:19:48.601Z"
    }
   },
   "outputs": [],
   "source": [
    "plot_roc_curve(rf_model, X_test, y_test);"
   ]
  },
  {
   "cell_type": "code",
   "execution_count": null,
   "metadata": {
    "ExecuteTime": {
     "start_time": "2021-03-17T03:19:48.953Z"
    }
   },
   "outputs": [],
   "source": [
    "plot_precision_recall_curve(rf_model, X_test, y_test);"
   ]
  },
  {
   "cell_type": "code",
   "execution_count": null,
   "metadata": {
    "ExecuteTime": {
     "start_time": "2021-03-17T03:19:49.370Z"
    }
   },
   "outputs": [],
   "source": [
    "result = pd.DataFrame()\n",
    "result[\"y_pred\"] = y_pred\n",
    "result[\"y_test\"] = y_test.values\n",
    "result[\"y_score\"] = y_score"
   ]
  },
  {
   "cell_type": "code",
   "execution_count": null,
   "metadata": {
    "ExecuteTime": {
     "start_time": "2021-03-17T03:19:49.623Z"
    }
   },
   "outputs": [],
   "source": [
    "sns.histplot(result['y_score'], kde=True);"
   ]
  },
  {
   "cell_type": "code",
   "execution_count": null,
   "metadata": {
    "ExecuteTime": {
     "start_time": "2021-03-17T03:19:49.986Z"
    }
   },
   "outputs": [],
   "source": [
    "def plot_dist_probs(df_result):\n",
    "    \"\"\"\n",
    "    plot the dist plot between the classes\n",
    "    :df_result: a df containing a y_test (target), y_pred and y_prob\n",
    "    \"\"\"\n",
    "    \n",
    "    plt.figure(figsize=(10,6))\n",
    "    sns.kdeplot(df_result.loc[df_result['y_test'] == 0, \"y_score\"] , color=\"skyblue\", label=\"Normal\")\n",
    "    sns.kdeplot(df_result.loc[df_result['y_test'] == 1, \"y_score\"] , color=\"red\", label=\"Fraude\")\n",
    "    plt.legend()\n",
    "    plt.title(\"Probability distribution\")\n",
    "    plt.tight_layout()\n",
    "    \n",
    "plot_dist_probs(result)"
   ]
  },
  {
   "cell_type": "code",
   "execution_count": null,
   "metadata": {},
   "outputs": [],
   "source": []
  },
  {
   "cell_type": "markdown",
   "metadata": {
    "heading_collapsed": true
   },
   "source": [
    "### Learning Curve"
   ]
  },
  {
   "cell_type": "code",
   "execution_count": 30,
   "metadata": {
    "ExecuteTime": {
     "end_time": "2021-03-17T02:38:43.168952Z",
     "start_time": "2021-03-17T02:38:40.279724Z"
    },
    "hidden": true
   },
   "outputs": [],
   "source": [
    "from sklearn.model_selection import StratifiedKFold\n",
    "from yellowbrick.model_selection import LearningCurve"
   ]
  },
  {
   "cell_type": "code",
   "execution_count": 31,
   "metadata": {
    "ExecuteTime": {
     "end_time": "2021-03-17T02:38:43.655443Z",
     "start_time": "2021-03-17T02:38:43.170837Z"
    },
    "hidden": true
   },
   "outputs": [],
   "source": [
    "X_res = pd.concat([X_train, X_test])\n",
    "y_res = pd.concat([y_train, y_test])"
   ]
  },
  {
   "cell_type": "code",
   "execution_count": 33,
   "metadata": {
    "ExecuteTime": {
     "end_time": "2021-03-17T02:42:42.035493Z",
     "start_time": "2021-03-17T02:39:21.000884Z"
    },
    "hidden": true
   },
   "outputs": [
    {
     "name": "stderr",
     "output_type": "stream",
     "text": [
      "/home/jrcunha/anaconda3/lib/python3.8/site-packages/sklearn/base.py:209: FutureWarning: From version 0.24, get_params will raise an AttributeError if a parameter cannot be retrieved as an instance attribute. Previously it would return None.\n",
      "  warnings.warn('From version 0.24, get_params will raise an '\n"
     ]
    },
    {
     "data": {
      "image/png": "[encoded data removed]",
      "text/plain": [
       "<Figure size 864x576 with 1 Axes>"
      ]
     },
     "metadata": {
      "image/png": {
       "height": 503,
       "width": 730
      }
     },
     "output_type": "display_data"
    }
   ],
   "source": [
    "seed = 142\n",
    "\n",
    "params = {'bootstrap': True,\n",
    "          'class_weight': 'balanced',\n",
    "          'criterion': 'gini',\n",
    "          'max_depth': 8,\n",
    "          'max_features': 'auto',\n",
    "          'max_samples': 0.75,\n",
    "          'n_estimators': 180,\n",
    "          'n_jobs': -1,\n",
    "          'random_state': seed,\n",
    "          'verbose': 0}\n",
    "\n",
    "rf_model = RandomForestClassifier(**params)\n",
    "\n",
    "cv = StratifiedKFold(n_splits=10)\n",
    "sizes = np.logspace(-3, 0, 10)\n",
    "\n",
    "visualizer = LearningCurve(\n",
    "    rf_model, cv=cv, scoring='f1', train_sizes=sizes, n_jobs=-1\n",
    ")\n",
    "\n",
    "visualizer.fit(X_res, y_res)        # Fit the data to the visualizer\n",
    "visualizer.show();           # Finalize and render the figure"
   ]
  },
  {
   "cell_type": "code",
   "execution_count": null,
   "metadata": {
    "hidden": true
   },
   "outputs": [],
   "source": []
  },
  {
   "cell_type": "code",
   "execution_count": null,
   "metadata": {
    "hidden": true
   },
   "outputs": [],
   "source": []
  },
  {
   "cell_type": "code",
   "execution_count": null,
   "metadata": {
    "hidden": true
   },
   "outputs": [],
   "source": []
  },
  {
   "cell_type": "markdown",
   "metadata": {
    "heading_collapsed": true
   },
   "source": [
    "### Grid search"
   ]
  },
  {
   "cell_type": "code",
   "execution_count": 37,
   "metadata": {
    "ExecuteTime": {
     "end_time": "2021-03-14T23:23:35.037591Z",
     "start_time": "2021-03-14T23:21:40.327996Z"
    },
    "hidden": true
   },
   "outputs": [
    {
     "name": "stdout",
     "output_type": "stream",
     "text": [
      "Fitting 3 folds for each of 27 candidates, totalling 81 fits\n"
     ]
    },
    {
     "name": "stderr",
     "output_type": "stream",
     "text": [
      "[Parallel(n_jobs=-1)]: Using backend LokyBackend with 8 concurrent workers.\n",
      "[Parallel(n_jobs=-1)]: Done  25 tasks      | elapsed:   43.5s\n",
      "[Parallel(n_jobs=-1)]: Done  81 out of  81 | elapsed:  1.9min finished\n"
     ]
    },
    {
     "data": {
      "text/plain": [
       "GridSearchCV(cv=3, estimator=RandomForestClassifier(), n_jobs=-1,\n",
       "             param_grid={'bootstrap': [True], 'class_weight': ['balanced'],\n",
       "                         'criterion': ['gini'], 'max_depth': [16, 24, 36],\n",
       "                         'max_features': ['auto'], 'max_samples': [0.75],\n",
       "                         'min_samples_leaf': [4, 8, 12],\n",
       "                         'min_samples_split': [8, 10, 14], 'n_estimators': [30],\n",
       "                         'n_jobs': [-1], 'random_state': [142]},\n",
       "             scoring='precision', verbose=2)"
      ]
     },
     "execution_count": 37,
     "metadata": {},
     "output_type": "execute_result"
    }
   ],
   "source": [
    "seed = 142\n",
    "params = {'bootstrap': [True],\n",
    "          'class_weight': ['balanced'],\n",
    "          'criterion': ['gini'],\n",
    "          'max_depth': [16, 24, 36],\n",
    "          'max_features': ['auto'],\n",
    "          'max_samples': [0.75],\n",
    "          'min_samples_leaf': [4, 8, 12],\n",
    "          'min_samples_split': [8, 10, 14],\n",
    "          'n_estimators': [30],\n",
    "          'n_jobs': [-1],\n",
    "          'random_state': [seed]}\n",
    "\n",
    "estimator = RandomForestClassifier()\n",
    "\n",
    "clf = GridSearchCV(estimator, \n",
    "                   param_grid=params, \n",
    "                   scoring='precision', \n",
    "                   n_jobs=-1,  \n",
    "                   cv=3, \n",
    "                   verbose=2,  \n",
    "                   return_train_score=False)\n",
    "\n",
    "clf.fit(X_train, y_train)"
   ]
  },
  {
   "cell_type": "code",
   "execution_count": 38,
   "metadata": {
    "ExecuteTime": {
     "end_time": "2021-03-14T23:23:37.669303Z",
     "start_time": "2021-03-14T23:23:37.651448Z"
    },
    "hidden": true
   },
   "outputs": [
    {
     "data": {
      "text/plain": [
       "0.5992933550456393"
      ]
     },
     "execution_count": 38,
     "metadata": {},
     "output_type": "execute_result"
    }
   ],
   "source": [
    "clf.best_score_"
   ]
  },
  {
   "cell_type": "code",
   "execution_count": 39,
   "metadata": {
    "ExecuteTime": {
     "end_time": "2021-03-14T23:23:40.989410Z",
     "start_time": "2021-03-14T23:23:40.972030Z"
    },
    "hidden": true
   },
   "outputs": [
    {
     "data": {
      "text/plain": [
       "{'bootstrap': True,\n",
       " 'ccp_alpha': 0.0,\n",
       " 'class_weight': 'balanced',\n",
       " 'criterion': 'gini',\n",
       " 'max_depth': 36,\n",
       " 'max_features': 'auto',\n",
       " 'max_leaf_nodes': None,\n",
       " 'max_samples': 0.75,\n",
       " 'min_impurity_decrease': 0.0,\n",
       " 'min_impurity_split': None,\n",
       " 'min_samples_leaf': 4,\n",
       " 'min_samples_split': 8,\n",
       " 'min_weight_fraction_leaf': 0.0,\n",
       " 'n_estimators': 30,\n",
       " 'n_jobs': -1,\n",
       " 'oob_score': False,\n",
       " 'random_state': 142,\n",
       " 'verbose': 0,\n",
       " 'warm_start': False}"
      ]
     },
     "execution_count": 39,
     "metadata": {},
     "output_type": "execute_result"
    }
   ],
   "source": [
    "clf.best_estimator_.get_params()"
   ]
  },
  {
   "cell_type": "code",
   "execution_count": null,
   "metadata": {
    "hidden": true
   },
   "outputs": [],
   "source": []
  },
  {
   "cell_type": "code",
   "execution_count": null,
   "metadata": {
    "hidden": true
   },
   "outputs": [],
   "source": []
  }
 ],
 "metadata": {
  "kernelspec": {
   "display_name": "ds-env",
   "language": "python",
   "name": "ds-env"
  },
  "language_info": {
   "codemirror_mode": {
    "name": "ipython",
    "version": 3
   },
   "file_extension": ".py",
   "mimetype": "text/x-python",
   "name": "python",
   "nbconvert_exporter": "python",
   "pygments_lexer": "ipython3",
   "version": "3.8.5"
  }
 },
 "nbformat": 4,
 "nbformat_minor": 4
}
